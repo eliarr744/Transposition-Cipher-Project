{
 "cells": [
  {
   "cell_type": "code",
   "execution_count": 1,
   "id": "527826cc",
   "metadata": {},
   "outputs": [],
   "source": [
    "from math import ceil"
   ]
  },
  {
   "cell_type": "code",
   "execution_count": 2,
   "id": "9a10c2c4",
   "metadata": {},
   "outputs": [],
   "source": [
    "class TranspositionCipher(object): \n",
    "        \n",
    "    def __init__(self, key):\n",
    "        self.key = key\n",
    "        \n",
    "    def encrypt_message(self, message):\n",
    "        message_split = list(message.lower())\n",
    "        message_length = len(message_split)\n",
    "        message_encrypted = ''\n",
    "        message_ceil = ceil(message_length/self.key)\n",
    "        \n",
    "        for j in range(self.key):\n",
    "            for i in range(message_ceil):\n",
    "                index = j + i * self.key\n",
    "                if index < message_length:\n",
    "                    message_encrypted += message_split[index]\n",
    "                    \n",
    "        return message_encrypted\n",
    "    \n",
    "    def decrypt_message(self, message):\n",
    "    \n",
    "        message_split = list(message.lower())\n",
    "        message_length = len(message_split)\n",
    "        message_ceil = ceil(message_length/self.key)\n",
    "        num_empty_cells = self.key*message_ceil - message_length\n",
    "        message_grid = [['' for _ in range(message_ceil)] for _ in range(self.key)]\n",
    "        message_decrypted = ''\n",
    "        iterator = iter(message_split)\n",
    "        for i in range(self.key):\n",
    "            if i < self.key - num_empty_cells:\n",
    "                columns = message_ceil\n",
    "            else:\n",
    "                columns = message_ceil - 1\n",
    "                \n",
    "            for j in range(columns):\n",
    "                message_grid[i][j] = next(iterator, None)\n",
    "\n",
    "        for j in range(message_ceil):\n",
    "            for i in range(self.key):\n",
    "                message_decrypted += message_grid[i][j]\n",
    "\n",
    "        return message_decrypted"
   ]
  },
  {
   "cell_type": "code",
   "execution_count": 5,
   "id": "2a9a8e27",
   "metadata": {},
   "outputs": [
    {
     "data": {
      "text/plain": [
       "'ivtss eatl tiosic'"
      ]
     },
     "execution_count": 5,
     "metadata": {},
     "output_type": "execute_result"
    }
   ],
   "source": [
    "cipher = TranspositionCipher(4)\n",
    "cipher.encrypt_message('I love statistics')"
   ]
  },
  {
   "cell_type": "code",
   "execution_count": 6,
   "id": "6981d86d",
   "metadata": {},
   "outputs": [
    {
     "data": {
      "text/plain": [
       "'i love statistics'"
      ]
     },
     "execution_count": 6,
     "metadata": {},
     "output_type": "execute_result"
    }
   ],
   "source": [
    "cipher = TranspositionCipher(4)\n",
    "cipher.decrypt_message('ivtss eatl tiosic')"
   ]
  }
 ],
 "metadata": {
  "kernelspec": {
   "display_name": "Python 3 (ipykernel)",
   "language": "python",
   "name": "python3"
  },
  "language_info": {
   "codemirror_mode": {
    "name": "ipython",
    "version": 3
   },
   "file_extension": ".py",
   "mimetype": "text/x-python",
   "name": "python",
   "nbconvert_exporter": "python",
   "pygments_lexer": "ipython3",
   "version": "3.11.5"
  }
 },
 "nbformat": 4,
 "nbformat_minor": 5
}
